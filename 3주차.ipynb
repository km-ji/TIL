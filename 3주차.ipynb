{
 "cells": [
  {
   "cell_type": "markdown",
   "id": "7990944c",
   "metadata": {},
   "source": [
    "| 번호 | name     | score |\n",
    "|------|----------|-------|\n",
    "| 1    | Tom      | 10    |\n",
    "| 2    | Scott    | 20    |\n",
    "| 3    | Maewoong | 30    |"
   ]
  },
  {
   "cell_type": "markdown",
   "id": "dd7c0aea",
   "metadata": {},
   "source": [
    "*single asterisks*  \n",
    "_single underscores_  \n",
    "**double asterisks**  \n",
    "__double underscores__  \n",
    "~~cancelline~~"
   ]
  },
  {
   "cell_type": "markdown",
   "id": "efeaf5b0",
   "metadata": {},
   "source": [
    "문단 나누기에 신경써서 글을 작성하기 바랍니다. 문단은 몇 개의 문장으로 구성합니다.문단 나누기에 신경써서 글을 작성하기 바랍니다. 문단은 몇 개의 문장으로 구성합니다.문단 나누기에 신경써서 글을 작성하기 바랍니다. 문단은 몇 개의 문장으로 구성합니다.문단 나누기에 신경써서 글을 작성하기 바랍니다. 문단은 몇 개의 문장으로 구성합니다.문단 나누기에 신경써서 글을 작성하기 바랍니다. 문단은 몇 개의 문장으로 구성합니다.문단 나누기에 신경써서 글을 작성하기 바랍니다. 문단은 몇 개의 문장으로 구성합니다.문단 나누기에 신경써서 글을 작성하기 바랍니다. 문단은 몇 개의 문장으로 구성합니다.문단 나누기에 신경써서 글을 작성하기 바랍니다. 문단은 몇 개의 문장으로 구성합니다.  \n",
    "문단 나누기에 신경써서 글을 작성하기 바랍니다. 문단은 몇 개의 문장으로 구성합니다.문단 나누기에 신경써서 글을 작성하기 바랍니다. 문단은 몇 개의 문장으로 구성합니다.문단 나누기에 신경써서 글을 작성하기 바랍니다. 문단은 몇 개의 문장으로 구성합니다.문단 나누기에 신경써서 글을 작성하기 바랍니다. 문단은 몇 개의 문장으로 구성합니다.문단 나누기에 신경써서 글을 작성하기 바랍니다. 문단은 몇 개의 문장으로 구성합니다.문단 나누기에 신경써서 글을 작성하기 바랍니다. 문단은 몇 개의 문장으로 구성합니다.문단 나누기에 신경써서 글을 작성하기 바랍니다. 문단은 몇 개의 문장으로 구성합니다.문단 나누기에 신경써서 글을 작성하기 바랍니다. 문단은 몇 개의 문장으로 구성합니다.\n",
    "\n",
    "문단 나누기에 신경써서 글을 작성하기 바랍니다. 문단은 몇 개의 문장으로 구성합니다.`print('Hello')`라고 코드를 작성하면 됩니다. 이렇게 묹ㅇ 속에 등장하는 코드 블록을 `인라인 코드 블록`이라고 합니다. 문단 나누기에 신경써서 글을 작성하기 바랍니다. 문단은 몇 개의 문장으로 구성합니다.문단 나누기에 신경써서 글을 작성하기 바랍니다. 문단은 몇 개의 문장으로 구성합니다.문단 나누기에 신경써서 글을 작성하기 바랍니다. 문단은 몇 개의 문장으로 구성합니다.문단 나누기에 신경써서 글을 작성하기 바랍니다. 문단은 몇 개의 문장으로 구성합니다.문단 나누기에 신경써서 글을 작성하기 바랍니다. 문단은 몇 개의 문장으로 구성합니다.문단 나누기에 신경써서 글을 작성하기 바랍니다. 문단은 몇 개의 문장으로 구성합니다.문단 나누기에 신경써서 글을 작성하기 바랍니다. 문단은 몇 개의 문장으로 구성합니다.\n",
    "\n",
    "```python\n",
    "for i in range(10):\n",
    "    print('Hello')\n",
    "```\n",
    "    \n",
    ">사랑합시다. 아니면 떠납시다. - 신교수가 강조하는 말 -\n",
    "\n",
    "문단 나누기에 신경써서 글을 작성하기 바랍니다. 문단은 몇 개의 문장으로 구성합니다.문단 나누기에 신경써서 글을 작성하기 바랍니다. 문단은 몇 개의 문장으로 구성합니다.문단 나누기에 신경써서 글을 작성하기 바랍니다. 문단은 몇 개의 문장으로 구성합니다.문단 나누기에 신경써서 글을 작성하기 바랍니다. 문단은 몇 개의 문장으로 구성합니다.문단 나누기에 신경써서 글을 작성하기 바랍니다. 문단은 몇 개의 문장으로 구성합니다.문단 나누기에 신경써서 글을 작성하기 바랍니다. 문단은 몇 개의 문장으로 구성합니다.문단 나누기에 신경써서 글을 작성하기 바랍니다. 문단은 몇 개의 문장으로 구성합니다.문단 나누기에 신경써서 글을 작성하기 바랍니다. 문단은 몇 개의 문장으로 구성합니다."
   ]
  },
  {
   "cell_type": "markdown",
   "id": "347cb3cb",
   "metadata": {},
   "source": [
    "<u>순서 있는 목록</u>\n",
    "1. 데이터 분석\n",
    "1. 데이터 시각화\n",
    "1. 데이터 처리\n",
    "1. 기계학습\n",
    "\n",
    "<u>순서 없는 목록</u>\n",
    "- 프로그래밍 언어   \n",
    "  -파이썬   \n",
    "      -아나콘다  \n",
    "      -미니콘다  \n",
    "  -자바  \n",
    "  -C   "
   ]
  },
  {
   "cell_type": "markdown",
   "id": "5b1ad58c",
   "metadata": {},
   "source": [
    "문서 제목\n",
    "=========\n",
    "\n",
    "문서 부제목\n",
    "-------\n",
    "\n",
    "# This is a H1\n",
    "## This is a H2\n",
    "### This is a H3\n",
    "#### This is a H4\n",
    "##### This is a H5\n",
    "###### This is a H6\n",
    "\n",
    "####### H7은 없다.\n"
   ]
  },
  {
   "cell_type": "code",
   "execution_count": null,
   "id": "998e054c",
   "metadata": {},
   "outputs": [],
   "source": []
  }
 ],
 "metadata": {
  "kernelspec": {
   "display_name": "Python 3 (ipykernel)",
   "language": "python",
   "name": "python3"
  },
  "language_info": {
   "codemirror_mode": {
    "name": "ipython",
    "version": 3
   },
   "file_extension": ".py",
   "mimetype": "text/x-python",
   "name": "python",
   "nbconvert_exporter": "python",
   "pygments_lexer": "ipython3",
   "version": "3.8.11"
  },
  "toc": {
   "base_numbering": 1,
   "nav_menu": {},
   "number_sections": true,
   "sideBar": true,
   "skip_h1_title": false,
   "title_cell": "Table of Contents",
   "title_sidebar": "Contents",
   "toc_cell": false,
   "toc_position": {},
   "toc_section_display": true,
   "toc_window_display": false
  },
  "varInspector": {
   "cols": {
    "lenName": 16,
    "lenType": 16,
    "lenVar": 40
   },
   "kernels_config": {
    "python": {
     "delete_cmd_postfix": "",
     "delete_cmd_prefix": "del ",
     "library": "var_list.py",
     "varRefreshCmd": "print(var_dic_list())"
    },
    "r": {
     "delete_cmd_postfix": ") ",
     "delete_cmd_prefix": "rm(",
     "library": "var_list.r",
     "varRefreshCmd": "cat(var_dic_list()) "
    }
   },
   "types_to_exclude": [
    "module",
    "function",
    "builtin_function_or_method",
    "instance",
    "_Feature"
   ],
   "window_display": false
  }
 },
 "nbformat": 4,
 "nbformat_minor": 5
}
